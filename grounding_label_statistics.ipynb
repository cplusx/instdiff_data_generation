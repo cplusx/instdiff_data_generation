{
 "cells": [
  {
   "cell_type": "code",
   "execution_count": 2,
   "metadata": {},
   "outputs": [],
   "source": [
    "import os\n",
    "import json\n",
    "import numpy as np\n",
    "import textstat\n",
    "import matplotlib.pyplot as plt"
   ]
  },
  {
   "cell_type": "code",
   "execution_count": 3,
   "metadata": {},
   "outputs": [],
   "source": [
    "from glob import glob\n",
    "candidate_folders = range(1000, 1008)\n",
    "def find_files(folders, max_num_results=1000):\n",
    "    files = []\n",
    "    for f in folders:\n",
    "        files.extend(glob(f'{f}/*.json'))\n",
    "        if len(files) > max_num_results:\n",
    "            files = files[:max_num_results]\n",
    "            break\n",
    "    return files\n",
    "def parse_file(file, mode):\n",
    "    with open(file, 'r') as f:\n",
    "        data = json.load(f)\n",
    "    if mode == 'caption':\n",
    "        captions = [item['caption'] for item in data['annos'] if item['area'] > 32*32]\n",
    "    elif mode == 'cate':\n",
    "        captions = [item['category_name'] for item in data['annos']]\n",
    "    return captions\n",
    "def load_qwen_results(max_num_results=1000):\n",
    "    folders = [os.path.join('generated_data_512', f'batch_{i}') for i in candidate_folders]\n",
    "    files = find_files(folders, max_num_results)\n",
    "    captions = []\n",
    "    for f in files:\n",
    "        captions.append(parse_file(f, 'caption'))\n",
    "    return captions\n",
    "\n",
    "def load_blip_results(max_num_results=1000):\n",
    "    folders = [os.path.join('generated_data_blip', f'batch_{i}') for i in candidate_folders]\n",
    "    files = find_files(folders, max_num_results)\n",
    "    captions = []\n",
    "    for f in files:\n",
    "        captions.append(parse_file(f, 'caption'))\n",
    "    return captions\n",
    "\n",
    "def load_grounding_dino_results(max_num_results=1000):\n",
    "    folders = [os.path.join('generated_data_512', f'batch_{i}') for i in candidate_folders]\n",
    "    files = find_files(folders, max_num_results)\n",
    "    captions = []\n",
    "    for f in files:\n",
    "        captions.append(parse_file(f, 'cate'))\n",
    "    return captions"
   ]
  },
  {
   "cell_type": "code",
   "execution_count": 4,
   "metadata": {},
   "outputs": [],
   "source": [
    "# length\n",
    "def get_statis_text_length(res):\n",
    "    all_length = []\n",
    "    for r in res:\n",
    "        if len(r) == 0:\n",
    "            continue\n",
    "        all_length.append([len(i.split(' ')) for i in r])\n",
    "    all_length_micro = [np.mean(i) for i in all_length]\n",
    "    all_length_macro = sum(all_length, [])\n",
    "    return {\n",
    "        'macro': all_length_macro,\n",
    "        'micro': all_length_micro\n",
    "    }\n",
    "\n",
    "# diversity\n",
    "def get_statis_unique_words(res):\n",
    "    words_each_sample = []\n",
    "    for r in res:\n",
    "        words_in_sample = []\n",
    "        if len(r) == 0:\n",
    "            continue\n",
    "        for i in r:\n",
    "            words_in_sample.extend(set(i.split(' ')))\n",
    "        words_each_sample.append(len(set(words_in_sample)))\n",
    "    return {\n",
    "        'micro': words_each_sample,\n",
    "    }\n",
    "\n",
    "# complexity\n",
    "def get_statis_complexity(res):\n",
    "    # res is a list (each sample's sentence) in list (all samples)\n",
    "    flesch_grade, gunning_fog, coleman_liau = [], [], []\n",
    "    for r in res:\n",
    "        if len(r) == 0:\n",
    "            continue\n",
    "        # flesch_grade.append([textstat.flesch_kincaid_grade(s) for s in r])\n",
    "        gunning_fog.append([textstat.gunning_fog(s) for s in r])\n",
    "        # coleman_liau.append([textstat.coleman_liau_index(s) for s in r])\n",
    "\n",
    "    # flesch_grade_micro = [np.mean(i) for i in flesch_grade]\n",
    "    gunning_fog_micro = [np.mean(i) for i in gunning_fog]\n",
    "    # coleman_liau_micro = [np.mean(i) for i in coleman_liau]\n",
    "\n",
    "    # flesch_grade_macro = sum(flesch_grade, []) # concat all list in a list\n",
    "    gunning_fog_macro = sum(gunning_fog, []) # concat all list in a list\n",
    "    # coleman_liau_macro = sum(coleman_liau, []) # concat all list in a list\n",
    "\n",
    "    return {\n",
    "        # 'flesch_grade_micro': flesch_grade_micro,\n",
    "        'gunning_fog_micro': gunning_fog_micro,\n",
    "        # 'coleman_liau_micro': coleman_liau_micro,\n",
    "        # 'flesch_grade_macro': flesch_grade_macro,\n",
    "        'gunning_fog_macro': gunning_fog_macro,\n",
    "        # 'coleman_liau_macro': coleman_liau_macro,\n",
    "    }"
   ]
  },
  {
   "cell_type": "code",
   "execution_count": 5,
   "metadata": {},
   "outputs": [],
   "source": [
    "gd_res = load_grounding_dino_results(20000)\n",
    "qwen_res = load_qwen_results(20000)\n",
    "blip_res = load_blip_results(20000)"
   ]
  },
  {
   "cell_type": "code",
   "execution_count": 6,
   "metadata": {},
   "outputs": [],
   "source": [
    "metric_res = {\n",
    "    'text_length': {},\n",
    "    'unique_words': {},\n",
    "    'complexity': {}\n",
    "}\n",
    "stat_funcs = {\n",
    "    'text_length': get_statis_text_length, \n",
    "    'unique_words': get_statis_unique_words, \n",
    "    'complexity': get_statis_complexity\n",
    "}"
   ]
  },
  {
   "cell_type": "code",
   "execution_count": 41,
   "metadata": {},
   "outputs": [],
   "source": [
    "metric = 'text_length'\n",
    "metric_res[metric]['qwen'] = stat_funcs[metric](qwen_res)\n",
    "metric_res[metric]['blip'] = stat_funcs[metric](blip_res)\n",
    "metric_res[metric]['gd'] = stat_funcs[metric](gd_res)"
   ]
  },
  {
   "cell_type": "code",
   "execution_count": 42,
   "metadata": {},
   "outputs": [
    {
     "data": {
      "image/png": "[encoded data removed]",
      "text/plain": [
       "<Figure size 400x300 with 1 Axes>"
      ]
     },
     "metadata": {},
     "output_type": "display_data"
    }
   ],
   "source": [
    "scope = 'macro'\n",
    "hist_kwargs = {'edgecolor':'black', 'alpha':0.5, 'density':True, 'bins':25, 'range':(1, 25)}\n",
    "plt.figure(figsize=(4, 3))\n",
    "plt.hist(metric_res[metric]['gd'][scope], label='GLIGEN', **hist_kwargs)\n",
    "plt.hist(metric_res[metric]['blip'][scope], label='InstDiff', **hist_kwargs)\n",
    "plt.hist(metric_res[metric]['qwen'][scope], label='Ours', **hist_kwargs)\n",
    "# plt.title('Avg Sentence Length (Macro)')\n",
    "# plt.xlabel('Sentence Length', fontsize=15)\n",
    "plt.xticks(fontsize=12)\n",
    "plt.yticks(fontsize=12)\n",
    "plt.legend(fontsize=14)\n",
    "plt.savefig('pdf/macro_text_length.pdf', bbox_inches='tight')"
   ]
  },
  {
   "cell_type": "code",
   "execution_count": null,
   "metadata": {},
   "outputs": [],
   "source": [
    "scope = 'micro'\n",
    "hist_kwargs = {'edgecolor':'black', 'alpha':0.5, 'density':True, 'bins':30, 'range':(0, 30)}\n",
    "plt.hist(metric_res[metric]['qwen'][scope], label='Qwen', **hist_kwargs)\n",
    "plt.hist(metric_res[metric]['blip'][scope], label='BLIP2', **hist_kwargs)\n",
    "plt.hist(metric_res[metric]['gd'][scope], label='GroundingDINO', **hist_kwargs)\n",
    "plt.title('Avg Sentence Length (Micro)')\n",
    "plt.savefig('pdf/micro_text_length.pdf', bbox_inches='tight')\n",
    "plt.legend()"
   ]
  },
  {
   "cell_type": "code",
   "execution_count": 60,
   "metadata": {},
   "outputs": [],
   "source": [
    "metric = 'unique_words'\n",
    "metric_res[metric]['qwen'] = stat_funcs[metric](qwen_res)\n",
    "metric_res[metric]['blip'] = stat_funcs[metric](blip_res)\n",
    "metric_res[metric]['gd'] = stat_funcs[metric](gd_res)"
   ]
  },
  {
   "cell_type": "code",
   "execution_count": 61,
   "metadata": {},
   "outputs": [
    {
     "data": {
      "image/png": "[encoded data removed]",
      "text/plain": [
       "<Figure size 400x300 with 1 Axes>"
      ]
     },
     "metadata": {},
     "output_type": "display_data"
    }
   ],
   "source": [
    "scope = 'micro'\n",
    "plt.figure(figsize=(4, 3))\n",
    "hist_kwargs = {'edgecolor':'black', 'alpha':0.5, 'density':True, 'bins':40, 'range':(0, 80)}\n",
    "plt.hist(metric_res[metric]['gd'][scope], label='GroundingDINO', **hist_kwargs)\n",
    "plt.hist(metric_res[metric]['blip'][scope], label='BLIP2', **hist_kwargs)\n",
    "plt.hist(metric_res[metric]['qwen'][scope], label='Qwen', **hist_kwargs)\n",
    "plt.xticks(fontsize=12)\n",
    "plt.yticks(fontsize=12)\n",
    "# plt.legend()\n",
    "plt.savefig('pdf/unique_words.pdf', bbox_inches='tight')"
   ]
  },
  {
   "cell_type": "code",
   "execution_count": 7,
   "metadata": {},
   "outputs": [],
   "source": [
    "metric = 'complexity'\n",
    "metric_res[metric]['qwen'] = stat_funcs[metric](qwen_res)\n",
    "metric_res[metric]['blip'] = stat_funcs[metric](blip_res)\n",
    "metric_res[metric]['gd'] = stat_funcs[metric](gd_res)"
   ]
  },
  {
   "cell_type": "code",
   "execution_count": null,
   "metadata": {},
   "outputs": [],
   "source": [
    "scope = 'flesch_grade_micro'\n",
    "hist_kwargs = {'edgecolor':'black', 'alpha':0.5, 'density':True, 'bins':30, 'range':(0, 30)}\n",
    "plt.hist(metric_res[metric]['qwen'][scope], label='Qwen', **hist_kwargs)\n",
    "plt.hist(metric_res[metric]['blip'][scope], label='BLIP2', **hist_kwargs)\n",
    "plt.hist(metric_res[metric]['gd'][scope], label='GroundingDINO', **hist_kwargs)\n",
    "plt.title('Flesch Grade Micro')\n",
    "plt.savefig('pdf/flesch_grade_micro.pdf', bbox_inches='tight')\n",
    "plt.legend()"
   ]
  },
  {
   "cell_type": "code",
   "execution_count": null,
   "metadata": {},
   "outputs": [],
   "source": [
    "scope = 'flesch_grade_macro'\n",
    "hist_kwargs = {'edgecolor':'black', 'alpha':0.5, 'density':True, 'bins':30, 'range':(0, 30)}\n",
    "plt.hist(metric_res[metric]['qwen'][scope], label='Qwen', **hist_kwargs)\n",
    "plt.hist(metric_res[metric]['blip'][scope], label='BLIP2', **hist_kwargs)\n",
    "plt.hist(metric_res[metric]['gd'][scope], label='GroundingDINO', **hist_kwargs)\n",
    "plt.title('Flesch Grade Macro')\n",
    "plt.savefig('pdf/flesch_grade_macro.pdf', bbox_inches='tight')\n",
    "plt.legend()"
   ]
  },
  {
   "cell_type": "code",
   "execution_count": 8,
   "metadata": {},
   "outputs": [
    {
     "data": {
      "image/png": "[encoded data removed]",
      "text/plain": [
       "<Figure size 400x300 with 1 Axes>"
      ]
     },
     "metadata": {},
     "output_type": "display_data"
    }
   ],
   "source": [
    "scope = 'gunning_fog_micro'\n",
    "plt.figure(figsize=(4, 3))\n",
    "hist_kwargs = {'edgecolor':'black', 'alpha':0.5, 'density':True, 'bins':30, 'range':(0, 12)}\n",
    "plt.hist(metric_res[metric]['gd'][scope], label='GroundingDINO', **hist_kwargs)\n",
    "plt.hist(metric_res[metric]['blip'][scope], label='BLIP2', **hist_kwargs)\n",
    "plt.hist(metric_res[metric]['qwen'][scope], label='Qwen', **hist_kwargs)\n",
    "# plt.title('Gunning Fog Micro')\n",
    "# plt.xlabel('Gunning Fog Score', fontsize=15)\n",
    "plt.xticks(fontsize=12)\n",
    "plt.yticks(fontsize=12)\n",
    "plt.savefig('pdf/gunning_fog_micro.pdf', bbox_inches='tight')\n",
    "# plt.legend()"
   ]
  },
  {
   "cell_type": "code",
   "execution_count": null,
   "metadata": {},
   "outputs": [],
   "source": [
    "scope = 'gunning_fog_macro'\n",
    "hist_kwargs = {'edgecolor':'black', 'alpha':0.5, 'density':True, 'bins':12, 'range':(0, 12)}\n",
    "plt.hist(metric_res[metric]['qwen'][scope], label='Qwen', **hist_kwargs)\n",
    "plt.hist(metric_res[metric]['blip'][scope], label='BLIP2', **hist_kwargs)\n",
    "plt.hist(metric_res[metric]['gd'][scope], label='GroundingDINO', **hist_kwargs)\n",
    "plt.title('Gunning Fog Macro')\n",
    "plt.savefig('pdf/gunning_fog_macro.pdf', bbox_inches='tight')\n",
    "plt.legend()"
   ]
  },
  {
   "cell_type": "code",
   "execution_count": null,
   "metadata": {},
   "outputs": [],
   "source": [
    "scope = 'coleman_liau_micro'\n",
    "hist_kwargs = {'edgecolor':'black', 'alpha':0.5, 'density':True, 'bins':30, 'range':(0, 12)}\n",
    "plt.hist(metric_res[metric]['qwen'][scope], label='Qwen', **hist_kwargs)\n",
    "plt.hist(metric_res[metric]['blip'][scope], label='BLIP2', **hist_kwargs)\n",
    "plt.hist(metric_res[metric]['gd'][scope], label='GroundingDINO', **hist_kwargs)\n",
    "plt.title('Coleman Liau Micro')\n",
    "plt.savefig('pdf/coleman_liau_micro.pdf', bbox_inches='tight')\n",
    "plt.legend()"
   ]
  },
  {
   "cell_type": "code",
   "execution_count": 21,
   "metadata": {},
   "outputs": [
    {
     "data": {
      "text/plain": [
       "<matplotlib.legend.Legend at 0x7f54b8433a90>"
      ]
     },
     "execution_count": 21,
     "metadata": {},
     "output_type": "execute_result"
    },
    {
     "data": {
      "image/png": "[encoded data removed]",
      "text/plain": [
       "<Figure size 640x480 with 1 Axes>"
      ]
     },
     "metadata": {},
     "output_type": "display_data"
    }
   ],
   "source": [
    "scope = 'coleman_liau_macro'\n",
    "hist_kwargs = {'edgecolor':'black', 'alpha':0.5, 'density':True, 'bins':30, 'range':(0, 12)}\n",
    "plt.hist(metric_res[metric]['qwen'][scope], label='Qwen', **hist_kwargs)\n",
    "plt.hist(metric_res[metric]['blip'][scope], label='BLIP2', **hist_kwargs)\n",
    "plt.hist(metric_res[metric]['gd'][scope], label='GroundingDINO', **hist_kwargs)\n",
    "plt.title('Coleman Liau Micro')\n",
    "plt.savefig('pdf/coleman_liau_macro.pdf', bbox_inches='tight')\n",
    "plt.legend()"
   ]
  }
 ],
 "metadata": {
  "kernelspec": {
   "display_name": "instdiff",
   "language": "python",
   "name": "python3"
  },
  "language_info": {
   "codemirror_mode": {
    "name": "ipython",
    "version": 3
   },
   "file_extension": ".py",
   "mimetype": "text/x-python",
   "name": "python",
   "nbconvert_exporter": "python",
   "pygments_lexer": "ipython3",
   "version": "3.8.18"
  }
 },
 "nbformat": 4,
 "nbformat_minor": 2
}
