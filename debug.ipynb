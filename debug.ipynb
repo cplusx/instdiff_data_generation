{
 "cells": [
  {
   "cell_type": "code",
   "execution_count": null,
   "metadata": {},
   "outputs": [],
   "source": [
    "from RCCOCO import RichContextCOCODataset, RichContextCOCOEvalDataset\n",
    "\n",
    "dataset = RichContextCOCOEvalDataset(\n",
    "    root='/home/ubuntu/DetailedSD/data/coco_2017/',\n",
    "    split='val',\n",
    "    label_dir='rccoco_val_768',\n",
    "    image_size=512,\n",
    ")"
   ]
  },
  {
   "cell_type": "code",
   "execution_count": null,
   "metadata": {},
   "outputs": [],
   "source": [
    "batch = dataset[4]\n",
    "bboxes = batch['bboxes']\n",
    "image = batch['image']\n",
    "labels = batch['labels']\n",
    "categories = batch['categories']"
   ]
  },
  {
   "cell_type": "code",
   "execution_count": null,
   "metadata": {},
   "outputs": [],
   "source": [
    "bboxes, labels, categories"
   ]
  },
  {
   "cell_type": "code",
   "execution_count": null,
   "metadata": {},
   "outputs": [],
   "source": [
    "import cv2\n",
    "import matplotlib.pyplot as plt\n",
    "\n",
    "image_np = image.permute(1, 2, 0).numpy()\n",
    "for box, label, cate in zip(bboxes, labels, categories):\n",
    "    x1, y1, x2, y2 = box\n",
    "    x1, y1, x2, y2 = int(x1), int(y1), int(x2), int(y2)\n",
    "    image_np = cv2.rectangle(image_np, (x1, y1), (x2, y2), (0, 255, 0), 2)\n",
    "    image_np = cv2.putText(image_np, str(cate), (x1, y1), cv2.FONT_HERSHEY_SIMPLEX, 1, (0, 0, 0), 2, cv2.LINE_AA)\n",
    "plt.imshow(image_np)"
   ]
  }
 ],
 "metadata": {
  "kernelspec": {
   "display_name": "datagen",
   "language": "python",
   "name": "python3"
  },
  "language_info": {
   "codemirror_mode": {
    "name": "ipython",
    "version": 3
   },
   "file_extension": ".py",
   "mimetype": "text/x-python",
   "name": "python",
   "nbconvert_exporter": "python",
   "pygments_lexer": "ipython3",
   "version": "3.8.18"
  }
 },
 "nbformat": 4,
 "nbformat_minor": 2
}
